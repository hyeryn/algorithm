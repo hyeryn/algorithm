{
  "nbformat": 4,
  "nbformat_minor": 0,
  "metadata": {
    "colab": {
      "name": "1_그리디.ipynb",
      "provenance": [],
      "collapsed_sections": [
        "48ctjDOJ81iH",
        "ynKyh6KUM1T6",
        "kr1BRxJrM6oI",
        "8EZF1PKYM_HL"
      ],
      "authorship_tag": "ABX9TyPQsIPHcYPHfP1aJrJCTmg5",
      "include_colab_link": true
    },
    "kernelspec": {
      "name": "python3",
      "display_name": "Python 3"
    },
    "language_info": {
      "name": "python"
    }
  },
  "cells": [
    {
      "cell_type": "markdown",
      "metadata": {
        "id": "view-in-github",
        "colab_type": "text"
      },
      "source": [
        "<a href=\"https://colab.research.google.com/github/hyeryn/algorithm/blob/main/1_%EA%B7%B8%EB%A6%AC%EB%94%94.ipynb\" target=\"_parent\"><img src=\"https://colab.research.google.com/assets/colab-badge.svg\" alt=\"Open In Colab\"/></a>"
      ]
    },
    {
      "cell_type": "markdown",
      "metadata": {
        "id": "48ctjDOJ81iH"
      },
      "source": [
        "#예제"
      ]
    },
    {
      "cell_type": "code",
      "metadata": {
        "colab": {
          "base_uri": "https://localhost:8080/"
        },
        "id": "JRlHXlKP-CBY",
        "outputId": "430d1968-2bb5-45e3-944b-85ed6307a52b"
      },
      "source": [
        "money = 1260\n",
        "total = 0\n",
        "\n",
        "coins = [500,100,50,10]\n",
        "\n",
        "for coin in coins:\n",
        "  count = 0\n",
        "  total += money // coin\n",
        "  count += money // coin\n",
        "  print(coin, \"원\", count, \"개\")\n",
        "  money %= coin \n",
        "print(\"총\",total,\"개\")"
      ],
      "execution_count": null,
      "outputs": [
        {
          "output_type": "stream",
          "text": [
            "500 원 2 개\n",
            "100 원 2 개\n",
            "50 원 1 개\n",
            "10 원 1 개\n",
            "총 6 개\n"
          ],
          "name": "stdout"
        }
      ]
    },
    {
      "cell_type": "markdown",
      "metadata": {
        "id": "ynKyh6KUM1T6"
      },
      "source": [
        "#큰 수의 법칙"
      ]
    },
    {
      "cell_type": "code",
      "metadata": {
        "colab": {
          "base_uri": "https://localhost:8080/"
        },
        "id": "a_ImvNJ_FT-V",
        "outputId": "2a3261f8-f45f-4d15-c316-4edb0a2757c3"
      },
      "source": [
        "n, m, k = map(int, input().split())\n",
        "data = list(map(int,input().split()))\n",
        "\n",
        "data.sort()\n",
        "first = data[n-1]\n",
        "secont = data[n-2]\n",
        "total = 0\n",
        "\n",
        "while (m>0):\n",
        "  for i in range(k):\n",
        "    if m==0:\n",
        "      break;\n",
        "    total += first\n",
        "    m-=1\n",
        "  if m==0:\n",
        "    break;\n",
        "  total += second\n",
        "  m-=1\n",
        "\n",
        "print(total)"
      ],
      "execution_count": null,
      "outputs": [
        {
          "output_type": "stream",
          "text": [
            "4 5 2\n",
            "1 2 3 4\n",
            "19\n"
          ],
          "name": "stdout"
        }
      ]
    },
    {
      "cell_type": "code",
      "metadata": {
        "colab": {
          "base_uri": "https://localhost:8080/"
        },
        "id": "1V_dR2AhGqTo",
        "outputId": "6d82494d-d6aa-4f51-8991-eadb7720912b"
      },
      "source": [
        "# (+a)\n",
        "\n",
        "n, m, k = map(int,input().split())\n",
        "data = list(map(int, input().split()))\n",
        "\n",
        "data.sort()\n",
        "first = data[n-1]\n",
        "second = data[n-2]\n",
        "total = 0\n",
        "\n",
        "count = int((m/(k+1)))*k\n",
        "count += m % (k+1)\n",
        "\n",
        "total += (count) * first\n",
        "total += (m-count) * second\n",
        "\n",
        "print(total)"
      ],
      "execution_count": null,
      "outputs": [
        {
          "output_type": "stream",
          "text": [
            "4 5 2\n",
            "1 4 3 5\n",
            "24\n"
          ],
          "name": "stdout"
        }
      ]
    },
    {
      "cell_type": "markdown",
      "metadata": {
        "id": "kr1BRxJrM6oI"
      },
      "source": [
        "# 숫자 카드 게임"
      ]
    },
    {
      "cell_type": "code",
      "metadata": {
        "colab": {
          "base_uri": "https://localhost:8080/"
        },
        "id": "PpJd1WPbKov5",
        "outputId": "35e8890d-3d9a-4746-c46b-63cc9d9b1eca"
      },
      "source": [
        "n, m = map(int, input().split())\n",
        "\n",
        "result = 0\n",
        "\n",
        "for i in range(n):\n",
        "  data = list(map(int, input().split()))\n",
        "  small = min(data)\n",
        "  result = max(result,small)\n",
        "\n",
        "print(result)"
      ],
      "execution_count": null,
      "outputs": [
        {
          "output_type": "stream",
          "text": [
            "2 4\n",
            "7 3 1 8\n",
            "3 3 3 4\n",
            "3\n"
          ],
          "name": "stdout"
        }
      ]
    },
    {
      "cell_type": "markdown",
      "metadata": {
        "id": "8EZF1PKYM_HL"
      },
      "source": [
        "#1이 될 때까지"
      ]
    },
    {
      "cell_type": "code",
      "metadata": {
        "colab": {
          "base_uri": "https://localhost:8080/"
        },
        "id": "wjd2WzwFMmBw",
        "outputId": "d94cb791-18cc-4d8f-db09-135b053d4c3b"
      },
      "source": [
        "n, m = map(int, input().split())\n",
        "\n",
        "import time\n",
        "start = time.time() \n",
        "\n",
        "count = 0\n",
        "\n",
        "while (n != 1):\n",
        "  if n % m == 0:\n",
        "    n /= m\n",
        "    count += 1\n",
        "  else :\n",
        "    n -= 1\n",
        "    count += 1\n",
        "print(count)\n",
        "\n",
        "print(time.time()-start)"
      ],
      "execution_count": null,
      "outputs": [
        {
          "output_type": "stream",
          "text": [
            "100 40\n",
            "22\n",
            "0.0002155303955078125\n"
          ],
          "name": "stdout"
        }
      ]
    },
    {
      "cell_type": "code",
      "metadata": {
        "colab": {
          "base_uri": "https://localhost:8080/"
        },
        "id": "I4QTTld-PraD",
        "outputId": "89fec833-520a-41bf-a814-5518bb19d407"
      },
      "source": [
        "# 주어진 값 이외의 숫자를 입력하면 왜 안될까?\n",
        "\n",
        "n, m = map(int, input().split())\n",
        "\n",
        "import time\n",
        "start = time.time() \n",
        "\n",
        "count = 0\n",
        "\n",
        "while n>=k:\n",
        "  while n%k!=0:\n",
        "    n-=1\n",
        "    count+1\n",
        "  n//=k\n",
        "  count+=1\n",
        "\n",
        "while n>1:\n",
        "  n -=1\n",
        "  count += 1\n",
        "print(count)\n",
        "\n",
        "print(time.time()-start)"
      ],
      "execution_count": null,
      "outputs": [
        {
          "output_type": "stream",
          "text": [
            "100 40\n",
            "6\n",
            "0.0003304481506347656\n"
          ],
          "name": "stdout"
        }
      ]
    },
    {
      "cell_type": "markdown",
      "metadata": {
        "id": "m09bVkyWTZVm"
      },
      "source": [
        "#백준"
      ]
    },
    {
      "cell_type": "markdown",
      "metadata": {
        "id": "8v0MGIsATa_J"
      },
      "source": [
        "1. 동전0 (11047)"
      ]
    },
    {
      "cell_type": "code",
      "metadata": {
        "colab": {
          "base_uri": "https://localhost:8080/"
        },
        "id": "R4BbTo2zY6o1",
        "outputId": "e7be89aa-4321-4662-bbd3-2a5f42c09b6a"
      },
      "source": [
        "n, k = map(int,input().split())\n",
        "coin = []\n",
        "count = 0\n",
        "\n",
        "for i in range(n):\n",
        "  coin.append(int(input()))\n",
        "\n",
        "while n>=0:\n",
        "  if k >= coin[n-1]:\n",
        "    count += k // coin[n-1]\n",
        "    k = k % coin[n-1]\n",
        "  else :\n",
        "    n -= 1 \n",
        "\n",
        "print(count)"
      ],
      "execution_count": null,
      "outputs": [
        {
          "output_type": "stream",
          "text": [
            "10 4200\n",
            "1\n",
            "5\n",
            "10\n",
            "50\n",
            "100\n",
            "500\n",
            "1000\n",
            "5000\n",
            "10000\n",
            "50000\n",
            "6\n"
          ],
          "name": "stdout"
        }
      ]
    },
    {
      "cell_type": "markdown",
      "metadata": {
        "id": "F5loQdngaWTH"
      },
      "source": [
        "2. 회의실 배정 (1931)"
      ]
    },
    {
      "cell_type": "code",
      "metadata": {
        "id": "BwB5FA-2kXHF",
        "colab": {
          "base_uri": "https://localhost:8080/"
        },
        "outputId": "c2c1031e-db6a-413a-81e6-a48e39563740"
      },
      "source": [
        "n = int(input())\n",
        "rooms = []\n",
        "\n",
        "for i in range(n):\n",
        "  first, second = map(int,input().split())\n",
        "  rooms.append([first,second])\n",
        "  "
      ],
      "execution_count": 20,
      "outputs": [
        {
          "output_type": "stream",
          "text": [
            "2\n",
            "1 3\n",
            "2 4\n",
            "None\n"
          ],
          "name": "stdout"
        }
      ]
    },
    {
      "cell_type": "markdown",
      "metadata": {
        "id": "ZjckJlf6amIE"
      },
      "source": [
        "3. ATM (11399)"
      ]
    },
    {
      "cell_type": "code",
      "metadata": {
        "colab": {
          "base_uri": "https://localhost:8080/"
        },
        "id": "dE80xT39cJDI",
        "outputId": "013e4dc0-8f17-4e01-f5b5-ab54c3dd5bc0"
      },
      "source": [
        "n = int(input())\n",
        "p = list(map(int, input().split()))\n",
        "\n",
        "p.sort()\n",
        "result = 0\n",
        "\n",
        "for i in range(n):\n",
        "  for j in range(i+1):\n",
        "    result += p[j]\n",
        "\n",
        "print(result)"
      ],
      "execution_count": null,
      "outputs": [
        {
          "output_type": "stream",
          "text": [
            "5\n",
            "3 1 4 3 2\n",
            "32\n"
          ],
          "name": "stdout"
        }
      ]
    },
    {
      "cell_type": "code",
      "metadata": {
        "colab": {
          "base_uri": "https://localhost:8080/"
        },
        "id": "08E6xKuMdLCB",
        "outputId": "2d0fb438-196b-4c48-920a-3c644b83487c"
      },
      "source": [
        "# 테스트용\n",
        "n = 5\n",
        "p = []\n",
        "p.append(3)\n",
        "p.append(1)\n",
        "p.append(4)\n",
        "p.append(3)\n",
        "p.append(2)\n",
        "\n",
        "p.sort()\n",
        "result = 0\n",
        "\n",
        "for i in range(n):\n",
        "  for j in range(i+1):\n",
        "    result += p[j]\n",
        "print(result)"
      ],
      "execution_count": null,
      "outputs": [
        {
          "output_type": "stream",
          "text": [
            "32\n"
          ],
          "name": "stdout"
        }
      ]
    },
    {
      "cell_type": "markdown",
      "metadata": {
        "id": "QA5it30aauEA"
      },
      "source": [
        "4. 잃어버린 괄호 (1541)"
      ]
    },
    {
      "cell_type": "code",
      "metadata": {
        "colab": {
          "base_uri": "https://localhost:8080/"
        },
        "id": "QkpyYYwugpQJ",
        "outputId": "078fe2ed-06b9-4a22-f127-8f71dc6cb72b"
      },
      "source": [
        "cal = input().split('-')\n",
        "sum = 0\n",
        "\n",
        "for i in cal[0].split('+'): \n",
        "  sum += int(i)\n",
        "for i in cal[1:]:\n",
        "  for j in i.split('+'):\n",
        "    sum -= int(j)\n",
        "print(sum)"
      ],
      "execution_count": null,
      "outputs": [
        {
          "output_type": "stream",
          "text": [
            "50-55+30\n",
            "55\n",
            "30\n",
            "-35\n"
          ],
          "name": "stdout"
        }
      ]
    },
    {
      "cell_type": "markdown",
      "metadata": {
        "id": "I_HaxekSaw3b"
      },
      "source": [
        "5. 주유소 (13305)"
      ]
    },
    {
      "cell_type": "code",
      "metadata": {
        "colab": {
          "base_uri": "https://localhost:8080/"
        },
        "id": "pEDImYsWkYWK",
        "outputId": "0c33c443-42f6-4c59-f34f-40291ba66fd6"
      },
      "source": [
        "n = int(input())\n",
        "road = list(map(int,input().split()))\n",
        "oil = list(map(int,input().split()))\n",
        "money = 0\n",
        "\n",
        "for i in range(len(road)):\n",
        "  if oil[i] >= oil[i+1]:\n",
        "    money += road[i] * oil[i]\n",
        "  else :\n",
        "    oil[i+1] = oil[i]\n",
        "    money += road[i] * oil[i]\n",
        "print(money)"
      ],
      "execution_count": null,
      "outputs": [
        {
          "output_type": "stream",
          "text": [
            "4\n",
            "2 3 1\n",
            "5 2 4 1\n",
            "18\n"
          ],
          "name": "stdout"
        }
      ]
    }
  ]
}