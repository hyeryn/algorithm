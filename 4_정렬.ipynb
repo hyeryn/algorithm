{
  "nbformat": 4,
  "nbformat_minor": 0,
  "metadata": {
    "colab": {
      "name": "4_정렬.ipynb",
      "provenance": [],
      "collapsed_sections": [
        "QCE7AEmlk8pV",
        "x8Zv4seJl6kz",
        "9MmHnm02nAIj"
      ],
      "authorship_tag": "ABX9TyPIZZZuboOd4a7ClShh4ZR8",
      "include_colab_link": true
    },
    "kernelspec": {
      "name": "python3",
      "display_name": "Python 3"
    },
    "language_info": {
      "name": "python"
    }
  },
  "cells": [
    {
      "cell_type": "markdown",
      "metadata": {
        "id": "view-in-github",
        "colab_type": "text"
      },
      "source": [
        "<a href=\"https://colab.research.google.com/github/hyeryn/algorithm/blob/main/4_%EC%A0%95%EB%A0%AC.ipynb\" target=\"_parent\"><img src=\"https://colab.research.google.com/assets/colab-badge.svg\" alt=\"Open In Colab\"/></a>"
      ]
    },
    {
      "cell_type": "markdown",
      "metadata": {
        "id": "QCE7AEmlk8pV"
      },
      "source": [
        "#정렬"
      ]
    },
    {
      "cell_type": "markdown",
      "metadata": {
        "id": "i2u2LCujZxOH"
      },
      "source": [
        "**선택정렬**"
      ]
    },
    {
      "cell_type": "code",
      "metadata": {
        "colab": {
          "base_uri": "https://localhost:8080/"
        },
        "id": "x-YAchrKZqCE",
        "outputId": "d3ad919b-8cef-4c01-fbff-7fb3610a5c0d"
      },
      "source": [
        "# 가장 작은 수를 골라 앞에서부터 차례로 배열\n",
        "array = [7,5,9,0,3,1,6,2,4,8]\n",
        "\n",
        "for i in range(len(array)):\n",
        "  min = i\n",
        "  for j in range(i+1, len(array)):\n",
        "    if array[min] >= array[j]:\n",
        "      min = j\n",
        "  array[i], array[min] = array[min], array[i]\n",
        "\n",
        "print(array)"
      ],
      "execution_count": 5,
      "outputs": [
        {
          "output_type": "stream",
          "text": [
            "[0, 1, 2, 3, 4, 5, 6, 7, 8, 9]\n"
          ],
          "name": "stdout"
        }
      ]
    },
    {
      "cell_type": "markdown",
      "metadata": {
        "id": "KwwHVU7MbqrN"
      },
      "source": [
        "**삽입정렬**"
      ]
    },
    {
      "cell_type": "code",
      "metadata": {
        "colab": {
          "base_uri": "https://localhost:8080/"
        },
        "id": "C3KqhIqzbsnM",
        "outputId": "bb8af540-1008-430f-b0b1-f0bbb2ed9f49"
      },
      "source": [
        "# 적절한 위치에 삽입\n",
        "array = [7,5,9,0,3,1,6,2,4,8]\n",
        "\n",
        "for i in range(len(array)):\n",
        "  for j in range(i+1, len(array)):\n",
        "    if array[j] < array[i]:\n",
        "      array[j], array[i] = array[i], array[j]\n",
        "\n",
        "print(array)"
      ],
      "execution_count": 6,
      "outputs": [
        {
          "output_type": "stream",
          "text": [
            "[0, 1, 2, 3, 4, 5, 6, 7, 8, 9]\n"
          ],
          "name": "stdout"
        }
      ]
    },
    {
      "cell_type": "markdown",
      "metadata": {
        "id": "KiP6oOq1c-kN"
      },
      "source": [
        "**퀵정렬**"
      ]
    },
    {
      "cell_type": "code",
      "metadata": {
        "colab": {
          "base_uri": "https://localhost:8080/"
        },
        "id": "rDbEDGZ_cZ49",
        "outputId": "0b192bf3-16ff-466c-c7a0-d9e004aa8542"
      },
      "source": [
        "# 첫 숫자 기준으로 왼(작은)/오(큰) 수로 정렬 -> partition\n",
        "array = [7,5,9,0,3,1,6,2,4,8]\n",
        "\n",
        "def quicksort(array, start, end):\n",
        "  #원소가 1개인 경우는 종료(무한루프 주의-종료조건 꼭 써주기)\n",
        "  if start>=end:\n",
        "    return\n",
        "  partition = start\n",
        "  left = start + 1\n",
        "  right = end\n",
        "  while left <= right:\n",
        "    #왼쪽에서는 기준점보다 큰수가 나올때까지\n",
        "    while left <= end and array[left] <= array[partition]:\n",
        "      left += 1\n",
        "    #오른쪽에서는 기준점보다 작은수가 나올때까지\n",
        "    while array[right] >= array[partition] and right > start:\n",
        "      right -= 1\n",
        "    if left > right:\n",
        "      array[right],array[partition] = array[partition], array[right]\n",
        "    else:\n",
        "      array[left], array[right] = array[right], array[left]\n",
        "  quicksort(array, start, right-1)\n",
        "  quicksort(array, right+1, end)\n",
        "\n",
        "quicksort(array, 0, len(array)-1)\n",
        "print(array)"
      ],
      "execution_count": 14,
      "outputs": [
        {
          "output_type": "stream",
          "text": [
            "[0, 1, 2, 3, 4, 5, 6, 7, 8, 9]\n"
          ],
          "name": "stdout"
        }
      ]
    },
    {
      "cell_type": "code",
      "metadata": {
        "colab": {
          "base_uri": "https://localhost:8080/"
        },
        "id": "5Sfd_nGlijDz",
        "outputId": "378541bb-f6b0-4d4d-d678-461e28b8689e"
      },
      "source": [
        "# 파이썬 퀵 정렬\n",
        "array = [5,7,9,0,3,1,6,2,4,8]\n",
        "\n",
        "def quick(array):\n",
        "  if len(array) <= 1:\n",
        "    return array\n",
        "  pivot = array[0] #피벗은 첫번째 원소\n",
        "  tail = array[1:] #나머지\n",
        "\n",
        "  left = [x for x in tail if x <= pivot]\n",
        "  right = [x for x in tail if x > pivot]\n",
        "\n",
        "  return quick(left) + [pivot] + quick(right)\n",
        "\n",
        "print(quick(array))"
      ],
      "execution_count": 15,
      "outputs": [
        {
          "output_type": "stream",
          "text": [
            "[0, 1, 2, 3, 4, 5, 6, 7, 8, 9]\n"
          ],
          "name": "stdout"
        }
      ]
    },
    {
      "cell_type": "markdown",
      "metadata": {
        "id": "7bISqbYqj4W-"
      },
      "source": [
        "**계수정렬**"
      ]
    },
    {
      "cell_type": "code",
      "metadata": {
        "colab": {
          "base_uri": "https://localhost:8080/"
        },
        "id": "ukM6yZa7j6v1",
        "outputId": "95f721e2-a5c8-46d0-e244-e763579f178b"
      },
      "source": [
        "array = [7,5,9,0,3,1,6,2,9,1,4,8,0,5,2]\n",
        "sort_array = [0]*(max(array)+1)\n",
        "\n",
        "for i in range(len(array)):\n",
        "  sort_array[array[i]] += 1\n",
        "\n",
        "for i in range(len(sort_array)):\n",
        "  for j in range(sort_array[i]):\n",
        "    print(i, end = ' ')"
      ],
      "execution_count": 19,
      "outputs": [
        {
          "output_type": "stream",
          "text": [
            "0 0 1 1 2 2 3 4 5 5 6 7 8 9 9 "
          ],
          "name": "stdout"
        }
      ]
    },
    {
      "cell_type": "markdown",
      "metadata": {
        "id": "TUW8On70lAtp"
      },
      "source": [
        "**정렬라이브러리**"
      ]
    },
    {
      "cell_type": "code",
      "metadata": {
        "colab": {
          "base_uri": "https://localhost:8080/"
        },
        "id": "QckCMbAKlDab",
        "outputId": "4d94cd38-cebb-488f-bc71-c8bdfcaed67e"
      },
      "source": [
        "array = [5,7,9,0,3,1,6,2,4,8]\n",
        "\n",
        "result = sorted(array)\n",
        "print(result)"
      ],
      "execution_count": 21,
      "outputs": [
        {
          "output_type": "stream",
          "text": [
            "[0, 1, 2, 3, 4, 5, 6, 7, 8, 9]\n"
          ],
          "name": "stdout"
        }
      ]
    },
    {
      "cell_type": "code",
      "metadata": {
        "colab": {
          "base_uri": "https://localhost:8080/"
        },
        "id": "MjCIFr5nlNTR",
        "outputId": "21039e0c-592d-4318-8116-172f5c9e9d69"
      },
      "source": [
        "array = [5,7,9,0,3,1,6,2,4,8]\n",
        "\n",
        "array.sort()\n",
        "print(array)"
      ],
      "execution_count": 24,
      "outputs": [
        {
          "output_type": "stream",
          "text": [
            "[0, 1, 2, 3, 4, 5, 6, 7, 8, 9]\n"
          ],
          "name": "stdout"
        }
      ]
    },
    {
      "cell_type": "code",
      "metadata": {
        "colab": {
          "base_uri": "https://localhost:8080/"
        },
        "id": "CH5yfA0plfn9",
        "outputId": "78adfdd1-b96b-4ad0-dace-123110960725"
      },
      "source": [
        "# key \n",
        "array = [('바나나',1),('사과',3),('포도',2)]\n",
        "def set(data):\n",
        "  return data[1]\n",
        "\n",
        "result = sorted(array, key=set)\n",
        "print(result)"
      ],
      "execution_count": 26,
      "outputs": [
        {
          "output_type": "stream",
          "text": [
            "[('바나나', 1), ('포도', 2), ('사과', 3)]\n"
          ],
          "name": "stdout"
        }
      ]
    },
    {
      "cell_type": "markdown",
      "metadata": {
        "id": "x8Zv4seJl6kz"
      },
      "source": [
        "#위에서 아래로"
      ]
    },
    {
      "cell_type": "code",
      "metadata": {
        "colab": {
          "base_uri": "https://localhost:8080/"
        },
        "id": "Pmvf2F02l9f5",
        "outputId": "1fd8d940-27c9-4361-fe4a-97a75e4f6d96"
      },
      "source": [
        "n = int(input())\n",
        "\n",
        "array = []\n",
        "for i in range(n):\n",
        "  array.append(int(input()))\n",
        "\n",
        "array = sorted(array, reverse=True)\n",
        "\n",
        "for i in array:\n",
        "  print(i, end = ' ')"
      ],
      "execution_count": 30,
      "outputs": [
        {
          "output_type": "stream",
          "text": [
            "3\n",
            "15\n",
            "27\n",
            "12\n",
            "27 15 12 "
          ],
          "name": "stdout"
        }
      ]
    },
    {
      "cell_type": "markdown",
      "metadata": {
        "id": "9MmHnm02nAIj"
      },
      "source": [
        "#성적이 낮은 순서로 학생 출력하기"
      ]
    },
    {
      "cell_type": "code",
      "metadata": {
        "colab": {
          "base_uri": "https://localhost:8080/"
        },
        "id": "XFL-K5kfnDV3",
        "outputId": "c22f2525-e449-4e57-ea2f-5150d1f796a7"
      },
      "source": [
        "n = int(input())\n",
        "\n",
        "array = []\n",
        "for i in range(n):\n",
        "  student = input().split()\n",
        "  array.append((student[0], int(student[1])))\n",
        "\n",
        "# def key(array):\n",
        "#   return array[1]\n",
        "\n",
        "# array = sorted(array, key=key)\n",
        "\n",
        "# for i in array:\n",
        "#   print(i[0], end=' ')\n",
        "\n",
        "array = sorted(array, key=lambda s: s[1]) #간단한 람다식\n",
        "\n",
        "for s in array:\n",
        "  print(s[0], end = ' ')"
      ],
      "execution_count": 43,
      "outputs": [
        {
          "output_type": "stream",
          "text": [
            "2\n",
            "헤링 100\n",
            "링 80\n",
            "링 헤링 "
          ],
          "name": "stdout"
        }
      ]
    },
    {
      "cell_type": "markdown",
      "metadata": {
        "id": "QyjgpT1IpRo2"
      },
      "source": [
        "#두 배열의 원소 교체"
      ]
    },
    {
      "cell_type": "code",
      "metadata": {
        "colab": {
          "base_uri": "https://localhost:8080/"
        },
        "id": "7V2juHoNpUOC",
        "outputId": "a7240161-2d76-48dd-9f89-1ba8cc9d980c"
      },
      "source": [
        "n, k = map(int, input().split())\n",
        "\n",
        "a1 = list(map(int, input().split()))\n",
        "a2 = list(map(int, input().split()))\n",
        "\n",
        "a1.sort()\n",
        "a2.sort(reverse=True)\n",
        "\n",
        "for i in range(k):\n",
        "  a1[i] = a2[i]\n",
        "\n",
        "print(sum(a1))"
      ],
      "execution_count": 46,
      "outputs": [
        {
          "output_type": "stream",
          "text": [
            "5 3\n",
            "1 2 5 4 3\n",
            "5 5 6 6 5\n",
            "26\n"
          ],
          "name": "stdout"
        }
      ]
    }
  ]
}