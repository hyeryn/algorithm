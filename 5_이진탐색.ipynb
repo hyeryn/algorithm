{
  "nbformat": 4,
  "nbformat_minor": 0,
  "metadata": {
    "colab": {
      "name": "5_이진탐색.ipynb",
      "provenance": [],
      "collapsed_sections": [
        "rAmJn94IrVE9",
        "Bj92pt6zvaxz"
      ],
      "authorship_tag": "ABX9TyPNTa2oMkF6hzlDxaJz1uZo",
      "include_colab_link": true
    },
    "kernelspec": {
      "name": "python3",
      "display_name": "Python 3"
    },
    "language_info": {
      "name": "python"
    }
  },
  "cells": [
    {
      "cell_type": "markdown",
      "metadata": {
        "id": "view-in-github",
        "colab_type": "text"
      },
      "source": [
        "<a href=\"https://colab.research.google.com/github/hyeryn/algorithm/blob/main/5_%EC%9D%B4%EC%A7%84%ED%83%90%EC%83%89.ipynb\" target=\"_parent\"><img src=\"https://colab.research.google.com/assets/colab-badge.svg\" alt=\"Open In Colab\"/></a>"
      ]
    },
    {
      "cell_type": "markdown",
      "metadata": {
        "id": "rAmJn94IrVE9"
      },
      "source": [
        "#탐색"
      ]
    },
    {
      "cell_type": "markdown",
      "metadata": {
        "id": "rp-egFFGrWu4"
      },
      "source": [
        "**순차탐색**"
      ]
    },
    {
      "cell_type": "code",
      "metadata": {
        "colab": {
          "base_uri": "https://localhost:8080/"
        },
        "id": "3coLUclLrQhj",
        "outputId": "1504a677-1f95-4098-fbb5-c0090bf19624"
      },
      "source": [
        "# 배열 크기와 찾을 단어 입력하면 index 출력\n",
        "find = input().split()\n",
        "n = int(find[0])\n",
        "target = find[1]\n",
        "\n",
        "array = input().split()\n",
        "\n",
        "def search(array, target):\n",
        "  for i in range(len(array)):\n",
        "    if target == array[i]:\n",
        "      return i+1\n",
        "print(search(array, target))"
      ],
      "execution_count": 8,
      "outputs": [
        {
          "output_type": "stream",
          "text": [
            "3 혜링\n",
            "헤린 혜링 해린\n",
            "2\n"
          ],
          "name": "stdout"
        }
      ]
    },
    {
      "cell_type": "markdown",
      "metadata": {
        "id": "NPBC908ktTZk"
      },
      "source": [
        "**이진탐색**"
      ]
    },
    {
      "cell_type": "code",
      "metadata": {
        "colab": {
          "base_uri": "https://localhost:8080/"
        },
        "id": "K2uqLs2gtWDa",
        "outputId": "0bca791a-2f95-4f25-8778-4299b21ed194"
      },
      "source": [
        "# 반으로 쪼개서 탐색 -> 배열 크기와 찾을 단어 입력하면 index 출력\n",
        "n, target = map(int, input().split())\n",
        "array = list(map(int, input().split()))\n",
        "\n",
        "def s(array, target, start, end):\n",
        "  mid = (start+end)//2\n",
        "  if array[mid]==target:\n",
        "    return mid\n",
        "  elif array[mid]>target:\n",
        "    return s(array, target, start, mid-1)\n",
        "  else:\n",
        "    return s(array, target, mid+1, end)\n",
        "result = s(array,target,0,n-1)\n",
        "print(result+1)"
      ],
      "execution_count": 11,
      "outputs": [
        {
          "output_type": "stream",
          "text": [
            "10 7\n",
            "1 3 5 7 9 11 13 15 17 19\n",
            "4\n"
          ],
          "name": "stdout"
        }
      ]
    },
    {
      "cell_type": "markdown",
      "metadata": {
        "id": "Bj92pt6zvaxz"
      },
      "source": [
        "#부품찾기"
      ]
    },
    {
      "cell_type": "code",
      "metadata": {
        "colab": {
          "base_uri": "https://localhost:8080/"
        },
        "id": "QdbcvnTfvfMd",
        "outputId": "65f5d761-5cf8-4eca-c460-18c6d1bec2d2"
      },
      "source": [
        "n = int(input())\n",
        "n_array = list(map(int, input().split()))\n",
        "n_array.sort()\n",
        "\n",
        "m = int(input())\n",
        "m_array = list(map(int, input().split()))\n",
        "\n",
        "def find(target):\n",
        "  yn = ''\n",
        "  for i in n_array:\n",
        "    if target == i:\n",
        "      yn = 'yes'\n",
        "  return yn\n",
        "\n",
        "for i in m_array:\n",
        "  if find(i)=='yes':\n",
        "    print('yes')\n",
        "  else:\n",
        "    print('no')"
      ],
      "execution_count": 22,
      "outputs": [
        {
          "output_type": "stream",
          "text": [
            "5\n",
            "8 3 7 9 2\n",
            "3\n",
            "5 7 9\n",
            "no\n",
            "yes\n",
            "yes\n"
          ],
          "name": "stdout"
        }
      ]
    },
    {
      "cell_type": "code",
      "metadata": {
        "colab": {
          "base_uri": "https://localhost:8080/"
        },
        "id": "GJuwyRRS0CsT",
        "outputId": "8d927515-27c6-4f47-fee6-ae5ceb76c6fa"
      },
      "source": [
        "#이진탐색\n",
        "n = int(input())\n",
        "n_array = list(map(int, input().split()))\n",
        "n_array.sort()\n",
        "\n",
        "m = int(input())\n",
        "m_array = list(map(int, input().split()))\n",
        "\n",
        "def find(array, target, start, end):\n",
        "  while start <= end:\n",
        "    mid = (start+end)//2\n",
        "    if array[mid]==target:\n",
        "      return mid\n",
        "    elif array[mid]>target:\n",
        "      end = mid-1\n",
        "    else:\n",
        "      start = mid+1\n",
        "  return 'no'\n",
        "\n",
        "for i in m_array:\n",
        "  result = find(n_array, i, 0, n-1)\n",
        "  if result=='no':\n",
        "    print('no')\n",
        "  else:\n",
        "    print('yes')"
      ],
      "execution_count": 24,
      "outputs": [
        {
          "output_type": "stream",
          "text": [
            "5\n",
            "8 3 7 9 2\n",
            "3\n",
            "5 7 9\n",
            "no\n",
            "yes\n",
            "yes\n"
          ],
          "name": "stdout"
        }
      ]
    },
    {
      "cell_type": "code",
      "metadata": {
        "colab": {
          "base_uri": "https://localhost:8080/"
        },
        "id": "T1vgxaY_1Q8E",
        "outputId": "68f04b5e-32fa-488b-b926-e1a8417d4d89"
      },
      "source": [
        "#집합 자료형\n",
        "n = int(input())\n",
        "n_array = set(map(int, input().split())) #set집합자료형\n",
        "\n",
        "m = int(input())\n",
        "m_array = list(map(int, input().split()))\n",
        "\n",
        "for i in m_array:\n",
        "  if i in n_array:\n",
        "    print('yes')\n",
        "  else:\n",
        "    print('no')"
      ],
      "execution_count": 25,
      "outputs": [
        {
          "output_type": "stream",
          "text": [
            "5\n",
            "8 3 7 9 2\n",
            "3\n",
            "5 7 9\n",
            "no\n",
            "yes\n",
            "yes\n"
          ],
          "name": "stdout"
        }
      ]
    },
    {
      "cell_type": "markdown",
      "metadata": {
        "id": "AvDUOxs0vgul"
      },
      "source": [
        "#떡볶이 떡 만들기"
      ]
    },
    {
      "cell_type": "code",
      "metadata": {
        "colab": {
          "base_uri": "https://localhost:8080/"
        },
        "id": "iLqW_cX9vle_",
        "outputId": "664e2d7e-54e7-4e06-e501-533c783edc3b"
      },
      "source": [
        "# 한계: 무조건 index안의 값만 출력됨\n",
        "n, m = map(int, input().split())\n",
        "duck = list(map(int, input().split()))\n",
        "duck.sort()\n",
        "number = 0\n",
        "\n",
        "for i in range(len(duck)):\n",
        "  for j in range(len(duck)):\n",
        "    if duck[i] > duck[j]:\n",
        "      sum = 0\n",
        "      while sum < m:\n",
        "        sum = sum + (duck[i]-duck[j])\n",
        "        number = j\n",
        "print(duck[number-1])"
      ],
      "execution_count": 61,
      "outputs": [
        {
          "output_type": "stream",
          "text": [
            "4 6\n",
            "19 15 10 17\n",
            "15\n"
          ],
          "name": "stdout"
        }
      ]
    },
    {
      "cell_type": "code",
      "metadata": {
        "colab": {
          "base_uri": "https://localhost:8080/"
        },
        "id": "_8LnLOXZFLfv",
        "outputId": "851edefb-d0ea-4a2c-cdb2-8628748a60d1"
      },
      "source": [
        "#이진탐색\n",
        "n, m = map(int, input().split())\n",
        "array = list(map(int, input().split()))\n",
        "\n",
        "start = 0\n",
        "end = max(array)\n",
        "\n",
        "result = 0\n",
        "while start <= end:\n",
        "  total = 0\n",
        "  mid = (start+end) // 2\n",
        "  for x in array:\n",
        "    if x > mid:\n",
        "      total += x - mid\n",
        "  if total < m: #부족하면 더 많이 자르기\n",
        "    end = mid - 1\n",
        "  else:\n",
        "    result = mid #남으면 덜 자르기\n",
        "    start = mid + 1\n",
        "print(result)"
      ],
      "execution_count": 65,
      "outputs": [
        {
          "output_type": "stream",
          "text": [
            "4 7\n",
            "19 10 15 17\n",
            "14\n"
          ],
          "name": "stdout"
        }
      ]
    }
  ]
}