{
  "nbformat": 4,
  "nbformat_minor": 0,
  "metadata": {
    "colab": {
      "name": "6_다이나믹프로그래밍.ipynb",
      "provenance": [],
      "collapsed_sections": [
        "qOBdePRakN7F",
        "pObeOTr_wGh-",
        "wVwLbR6x0Yg3"
      ],
      "authorship_tag": "ABX9TyOKPO1zFUVnbE+VlA4E4IkT",
      "include_colab_link": true
    },
    "kernelspec": {
      "name": "python3",
      "display_name": "Python 3"
    },
    "language_info": {
      "name": "python"
    }
  },
  "cells": [
    {
      "cell_type": "markdown",
      "metadata": {
        "id": "view-in-github",
        "colab_type": "text"
      },
      "source": [
        "<a href=\"https://colab.research.google.com/github/hyeryn/algorithm/blob/main/6_%EB%8B%A4%EC%9D%B4%EB%82%98%EB%AF%B9%ED%94%84%EB%A1%9C%EA%B7%B8%EB%9E%98%EB%B0%8D.ipynb\" target=\"_parent\"><img src=\"https://colab.research.google.com/assets/colab-badge.svg\" alt=\"Open In Colab\"/></a>"
      ]
    },
    {
      "cell_type": "markdown",
      "metadata": {
        "id": "qOBdePRakN7F"
      },
      "source": [
        "#피보나치"
      ]
    },
    {
      "cell_type": "code",
      "metadata": {
        "colab": {
          "base_uri": "https://localhost:8080/"
        },
        "id": "yxxSzsD8j7Y_",
        "outputId": "8aaba4ef-9337-4037-f43a-428ae7ae1600"
      },
      "source": [
        "def fibo(x):\n",
        "  if x == 1 or x == 2:\n",
        "    return 1\n",
        "  else:\n",
        "    return fibo(x-1)+fibo(x-2)\n",
        "\n",
        "print(fibo(4)) # 1 1 2 3"
      ],
      "execution_count": 13,
      "outputs": [
        {
          "output_type": "stream",
          "text": [
            "3\n"
          ],
          "name": "stdout"
        }
      ]
    },
    {
      "cell_type": "markdown",
      "metadata": {
        "id": "HIjK77eEk9av"
      },
      "source": [
        "**메모이제이션-탑다운**"
      ]
    },
    {
      "cell_type": "code",
      "metadata": {
        "colab": {
          "base_uri": "https://localhost:8080/"
        },
        "id": "E5bS4QUCk-vX",
        "outputId": "0ef72dc7-2e5c-4d50-de21-a11603a10350"
      },
      "source": [
        "# 이미 계산된 결과 값을 메모이제이션\n",
        "d = [0] * 100\n",
        "\n",
        "def fibo(x):\n",
        "  if x == 1 or x == 2:\n",
        "    return 1\n",
        "  if d[x] != 0:\n",
        "    return d[x]\n",
        "  d[x] = fibo(x-1)+fibo(x-2)\n",
        "  return d[x]\n",
        "\n",
        "print(fibo(99)) # 계산 결과 속도 UP"
      ],
      "execution_count": 11,
      "outputs": [
        {
          "output_type": "stream",
          "text": [
            "218922995834555169026\n"
          ],
          "name": "stdout"
        }
      ]
    },
    {
      "cell_type": "code",
      "metadata": {
        "colab": {
          "base_uri": "https://localhost:8080/"
        },
        "id": "l4W4nDsjl1tW",
        "outputId": "be908da1-bd88-4002-99b3-6234a9adb959"
      },
      "source": [
        "# 호출되는 함수 보기\n",
        "d = [0] * 100\n",
        "\n",
        "def fibo(x):\n",
        "  print('f('+str(x)+')',end=' ')\n",
        "  if x == 1 or x == 2:\n",
        "    return 1\n",
        "  if d[x] != 0:\n",
        "    return d[x]\n",
        "  d[x] = fibo(x-1)+fibo(x-2)\n",
        "  return d[x]\n",
        "\n",
        "fibo(6)"
      ],
      "execution_count": 16,
      "outputs": [
        {
          "output_type": "stream",
          "text": [
            "f(6) f(5) f(4) f(3) f(2) f(1) f(2) f(3) f(4) "
          ],
          "name": "stdout"
        },
        {
          "output_type": "execute_result",
          "data": {
            "text/plain": [
              "8"
            ]
          },
          "metadata": {
            "tags": []
          },
          "execution_count": 16
        }
      ]
    },
    {
      "cell_type": "markdown",
      "metadata": {
        "id": "mkFqOMBSml6-"
      },
      "source": [
        "**반복적-보텀업**"
      ]
    },
    {
      "cell_type": "code",
      "metadata": {
        "colab": {
          "base_uri": "https://localhost:8080/"
        },
        "id": "ncjEzMc8mooC",
        "outputId": "4b927487-fb38-4f06-c9cb-592ff6e58b67"
      },
      "source": [
        "d = [0]*100\n",
        "\n",
        "d[1] = 1\n",
        "d[2] = 1\n",
        "n = 99\n",
        "\n",
        "for i in range(3,n+1):\n",
        "  d[i] = d[i-1]+d[i-2] #1과 2의 값을 넣어주고 3부터 올라간다\n",
        "\n",
        "print(d[n])"
      ],
      "execution_count": 17,
      "outputs": [
        {
          "output_type": "stream",
          "text": [
            "218922995834555169026\n"
          ],
          "name": "stdout"
        }
      ]
    },
    {
      "cell_type": "markdown",
      "metadata": {
        "id": "WRmaPzT3nATR"
      },
      "source": [
        "#1로 만들기"
      ]
    },
    {
      "cell_type": "code",
      "metadata": {
        "colab": {
          "base_uri": "https://localhost:8080/"
        },
        "id": "iWVA7E5ynDJJ",
        "outputId": "ec5c70c2-2ed6-4e5f-c94f-f65b3c0e92f0"
      },
      "source": [
        "n = int(input())\n",
        "count = 0\n",
        "\n",
        "def num(x):\n",
        "  global count\n",
        "  if(x==1):\n",
        "    print(count)\n",
        "  else:\n",
        "    x = x - 1\n",
        "    if x % 5 == 0:\n",
        "      x = x / 5\n",
        "    elif x % 3 == 0:\n",
        "      x = x / 3\n",
        "    elif x % 2 == 0:\n",
        "      x = x / 2\n",
        "    count = count + 1\n",
        "    num(x)\n",
        "\n",
        "num(n) #억지로 끼워맞춘 내 코드.."
      ],
      "execution_count": 71,
      "outputs": [
        {
          "output_type": "stream",
          "text": [
            "26\n",
            "3\n"
          ],
          "name": "stdout"
        }
      ]
    },
    {
      "cell_type": "code",
      "metadata": {
        "colab": {
          "base_uri": "https://localhost:8080/"
        },
        "id": "oTgVDCCHt6Rw",
        "outputId": "3971d180-bc0c-4c5b-b568-769fcbd864a5"
      },
      "source": [
        "#보텀업\n",
        "n = int(input())\n",
        "\n",
        "d = [0]*100\n",
        "\n",
        "for i in range(2,n+1):\n",
        "  d[i] = d[i-1]+1 \n",
        "  if i % 2 == 0:\n",
        "    d[i] = min(d[i], d[i//2]+1)\n",
        "  elif i % 3 == 0:\n",
        "    d[i] = min(d[i], d[i//3]+1)  \n",
        "  elif i % 5 == 0:\n",
        "    d[i] = min(d[i], d[i//5]+1)\n",
        "\n",
        "print(d[n])"
      ],
      "execution_count": 70,
      "outputs": [
        {
          "output_type": "stream",
          "text": [
            "26\n",
            "3\n"
          ],
          "name": "stdout"
        }
      ]
    },
    {
      "cell_type": "markdown",
      "metadata": {
        "id": "pObeOTr_wGh-"
      },
      "source": [
        "#개미전사"
      ]
    },
    {
      "cell_type": "code",
      "metadata": {
        "colab": {
          "base_uri": "https://localhost:8080/"
        },
        "id": "06KFFjl2wI24",
        "outputId": "2ad89cce-5747-4cdf-9306-3d751c5515b1"
      },
      "source": [
        "n = int(input())\n",
        "m = list(map(int, input().split()))\n",
        "sum_A = 0\n",
        "sum_B = 0\n",
        "\n",
        "for i in range(n):\n",
        "  if i % 2 == 0:\n",
        "    sum_A += m[i]\n",
        "  else:\n",
        "    sum_B += m[i]\n",
        "\n",
        "if sum_A >= sum_B:\n",
        "  print(sum_A)\n",
        "else:\n",
        "  print(sum_B)"
      ],
      "execution_count": 82,
      "outputs": [
        {
          "output_type": "stream",
          "text": [
            "4\n",
            "1 3 1 5\n",
            "8\n"
          ],
          "name": "stdout"
        }
      ]
    },
    {
      "cell_type": "code",
      "metadata": {
        "colab": {
          "base_uri": "https://localhost:8080/"
        },
        "id": "WeWQ0Wshy87N",
        "outputId": "a32dfa44-b0f6-499b-96b7-b7942dccb2d4"
      },
      "source": [
        "n = int(input())\n",
        "m = list(map(int, input().split()))\n",
        "\n",
        "d = [0]*100\n",
        "\n",
        "d[0]=m[0]\n",
        "d[1]=max(m[0],m[1]) \n",
        "for i in range(2,n):\n",
        "  d[i] = max(d[i-1],d[i-2]+m[i]) #max값을 누적해서 비교\n",
        "\n",
        "print(d[n-1])"
      ],
      "execution_count": 79,
      "outputs": [
        {
          "output_type": "stream",
          "text": [
            "4\n",
            "1 3 1 5\n",
            "8\n"
          ],
          "name": "stdout"
        }
      ]
    },
    {
      "cell_type": "markdown",
      "metadata": {
        "id": "wVwLbR6x0Yg3"
      },
      "source": [
        "#바닥공사"
      ]
    },
    {
      "cell_type": "code",
      "metadata": {
        "colab": {
          "base_uri": "https://localhost:8080/"
        },
        "id": "Iu0IgfvJ0bnd",
        "outputId": "d591141e-ed36-4cb7-dd90-1b72ba8a453d"
      },
      "source": [
        "n = int(input())\n",
        "\n",
        "d = [0]*100\n",
        "\n",
        "d[0] = 1\n",
        "d[1] = 3\n",
        "\n",
        "for i in (2, n):\n",
        "  d[i] = (d[i-1] + 2 * d[i-2]) % 796796\n",
        "\n",
        "print(d[n-1]) #재귀적 요소가 없기 때문에 4번째부터는 출력 불가능"
      ],
      "execution_count": 94,
      "outputs": [
        {
          "output_type": "stream",
          "text": [
            "3\n",
            "5\n"
          ],
          "name": "stdout"
        }
      ]
    },
    {
      "cell_type": "markdown",
      "metadata": {
        "id": "71iAFeDd4Sgf"
      },
      "source": [
        "#효율적인 화폐 구성"
      ]
    },
    {
      "cell_type": "code",
      "metadata": {
        "colab": {
          "base_uri": "https://localhost:8080/"
        },
        "id": "wNtZ361v4VXu",
        "outputId": "f1f56c9b-e9b0-406d-c5f4-dde96965838d"
      },
      "source": [
        "n, m = map(int, input().split())\n",
        "\n",
        "money = []\n",
        "for i in range(n):\n",
        "  money.append(int(input()))\n",
        "\n",
        "d = [100]*100 #해당값이 없으면 -1 return\n",
        "\n",
        "d[0] = 0\n",
        "\n",
        "for i in range(n):\n",
        "  for j in range(money[i], m+1):\n",
        "    #if d[j-money[i]] != 100:\n",
        "      d[j] = min(d[j], d[j-money[i]]+1)\n",
        "\n",
        "if d[m] == 100:\n",
        "  print(-1)\n",
        "else:\n",
        "  print(d[m])"
      ],
      "execution_count": 111,
      "outputs": [
        {
          "output_type": "stream",
          "text": [
            "2 15\n",
            "2\n",
            "3\n",
            "5\n"
          ],
          "name": "stdout"
        }
      ]
    }
  ]
}