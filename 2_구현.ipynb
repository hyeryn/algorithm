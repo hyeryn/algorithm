{
  "nbformat": 4,
  "nbformat_minor": 0,
  "metadata": {
    "colab": {
      "name": "2_구현.ipynb",
      "provenance": [],
      "collapsed_sections": [],
      "authorship_tag": "ABX9TyPV0KTfUxMeR1PECH+OgGt0",
      "include_colab_link": true
    },
    "kernelspec": {
      "name": "python3",
      "display_name": "Python 3"
    },
    "language_info": {
      "name": "python"
    }
  },
  "cells": [
    {
      "cell_type": "markdown",
      "metadata": {
        "id": "view-in-github",
        "colab_type": "text"
      },
      "source": [
        "<a href=\"https://colab.research.google.com/github/hyeryn/algorithm/blob/main/2_%EA%B5%AC%ED%98%84.ipynb\" target=\"_parent\"><img src=\"https://colab.research.google.com/assets/colab-badge.svg\" alt=\"Open In Colab\"/></a>"
      ]
    },
    {
      "cell_type": "markdown",
      "metadata": {
        "id": "nHavyV3JP_fk"
      },
      "source": [
        "**상하좌우**"
      ]
    },
    {
      "cell_type": "code",
      "metadata": {
        "colab": {
          "base_uri": "https://localhost:8080/"
        },
        "id": "lZB_ClvSP8N6",
        "outputId": "088eaf28-0f63-470d-918b-0c608bf3c535"
      },
      "source": [
        "n = int(input())\n",
        "move = input().split()\n",
        "x, y = 1, 1\n",
        "\n",
        "for num in move:\n",
        "  if num == 'R':\n",
        "    if y < n:\n",
        "      y+=1\n",
        "  elif num == 'L':\n",
        "    if y > 1:\n",
        "      y-=1\n",
        "  elif num == 'U':\n",
        "    if x > 1:\n",
        "      x-=1\n",
        "  elif num == 'D':\n",
        "    if x < n:\n",
        "      x+=1\n",
        "print(x, y)"
      ],
      "execution_count": 18,
      "outputs": [
        {
          "output_type": "stream",
          "text": [
            "5\n",
            "R R R U D D\n",
            "3 4\n"
          ],
          "name": "stdout"
        }
      ]
    },
    {
      "cell_type": "code",
      "metadata": {
        "colab": {
          "base_uri": "https://localhost:8080/"
        },
        "id": "yF7i3V4ITV_y",
        "outputId": "88d323c9-3f65-458c-c346-62affeff32f3"
      },
      "source": [
        "# 효율적인 코드\n",
        "n = int(input())\n",
        "move = input().split()\n",
        "x, y = 1, 1\n",
        "\n",
        "# 이동방향 미리 정해놓기\n",
        "dx = [0, 0, -1, 1]\n",
        "dy = [-1, 1, 0, 0]\n",
        "moves = ['L', 'R', 'U', 'D']\n",
        "\n",
        "for num in move:\n",
        "  for i in range(len(moves)):\n",
        "    if num == moves[i]:\n",
        "      nx = x + dx[i]\n",
        "      ny = y + dy[i]\n",
        "      if nx < 1 or ny < 1 or nx > n or ny > n:\n",
        "        continue\n",
        "      x, y = nx, ny\n",
        "print(x, y)"
      ],
      "execution_count": 23,
      "outputs": [
        {
          "output_type": "stream",
          "text": [
            "5\n",
            "R R R U D D\n",
            "3 4\n"
          ],
          "name": "stdout"
        }
      ]
    },
    {
      "cell_type": "markdown",
      "metadata": {
        "id": "XjnKfgSMUizS"
      },
      "source": [
        "**시각**"
      ]
    },
    {
      "cell_type": "code",
      "metadata": {
        "colab": {
          "base_uri": "https://localhost:8080/"
        },
        "id": "nNjG1QKTTV-B",
        "outputId": "fde4d7e9-4729-47f5-c82d-4e5e25dbfc57"
      },
      "source": [
        "n = int(input())\n",
        "count = 0\n",
        "\n",
        "for h in range(n+1):\n",
        "  for m in range(60):\n",
        "    for s in range(60):\n",
        "      if '3' in str(h) + str(m) + str(s):\n",
        "        count += 1\n",
        "\n",
        "print(count)"
      ],
      "execution_count": 25,
      "outputs": [
        {
          "output_type": "stream",
          "text": [
            "5\n",
            "11475\n"
          ],
          "name": "stdout"
        }
      ]
    },
    {
      "cell_type": "markdown",
      "metadata": {
        "id": "l4qNGx3KWf7z"
      },
      "source": [
        "**왕실의 테스트**"
      ]
    },
    {
      "cell_type": "code",
      "metadata": {
        "colab": {
          "base_uri": "https://localhost:8080/"
        },
        "id": "MYbxGQPKTV7b",
        "outputId": "8d55992b-0025-4d37-8aa8-70ad957281f9"
      },
      "source": [
        "location = input()\n",
        "row = int(location[1])\n",
        "col = int(ord(location[0])-int(ord('a'))) + 1\n",
        "count = 0\n",
        "\n",
        "move = [(-2, -1),(-2, 1),(2, -1),(2, 1),(-1, -2),(-1, 2),(1, -2),(1, 2)]\n",
        "\n",
        "for m in move:\n",
        "  row2 = row + m[0]\n",
        "  col2 = col + m[1]\n",
        "  if row2 >= 1 and row2 <= 8 and col2 >= 1 and col2 <= 8:\n",
        "    count += 1\n",
        "\n",
        "print(count)"
      ],
      "execution_count": 32,
      "outputs": [
        {
          "output_type": "stream",
          "text": [
            "c2\n",
            "6\n"
          ],
          "name": "stdout"
        }
      ]
    },
    {
      "cell_type": "markdown",
      "metadata": {
        "id": "SGZO_xQnZT89"
      },
      "source": [
        "**게임 개발**"
      ]
    },
    {
      "cell_type": "code",
      "metadata": {
        "id": "wHnRkbukZWhC"
      },
      "source": [
        ""
      ],
      "execution_count": null,
      "outputs": []
    }
  ]
}