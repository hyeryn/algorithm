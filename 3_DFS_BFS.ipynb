{
  "nbformat": 4,
  "nbformat_minor": 0,
  "metadata": {
    "colab": {
      "name": "3_DFS/BFS.ipynb",
      "provenance": [],
      "collapsed_sections": [],
      "authorship_tag": "ABX9TyPHxuVBMyQ/CvGYW5FUQbE5",
      "include_colab_link": true
    },
    "kernelspec": {
      "name": "python3",
      "display_name": "Python 3"
    },
    "language_info": {
      "name": "python"
    }
  },
  "cells": [
    {
      "cell_type": "markdown",
      "metadata": {
        "id": "view-in-github",
        "colab_type": "text"
      },
      "source": [
        "<a href=\"https://colab.research.google.com/github/hyeryn/algorithm/blob/main/3_DFS_BFS.ipynb\" target=\"_parent\"><img src=\"https://colab.research.google.com/assets/colab-badge.svg\" alt=\"Open In Colab\"/></a>"
      ]
    },
    {
      "cell_type": "markdown",
      "metadata": {
        "id": "0oiCwu7nxb1W"
      },
      "source": [
        "**스택**"
      ]
    },
    {
      "cell_type": "code",
      "metadata": {
        "colab": {
          "base_uri": "https://localhost:8080/"
        },
        "id": "glxDCTzgxTPp",
        "outputId": "a9a7a7c6-ab7b-499e-c75e-b1f2647a4a8c"
      },
      "source": [
        "stack = []\n",
        "\n",
        "stack.append(1)\n",
        "stack.append(2)\n",
        "stack.append(3)\n",
        "print(stack.pop())\n",
        "stack.append(4)\n",
        "stack.pop()\n",
        "\n",
        "print(stack)\n",
        "print(stack[::-1]) # 거꾸로 출력"
      ],
      "execution_count": 2,
      "outputs": [
        {
          "output_type": "stream",
          "text": [
            "3\n",
            "[1, 2]\n",
            "[2, 1]\n"
          ],
          "name": "stdout"
        }
      ]
    },
    {
      "cell_type": "markdown",
      "metadata": {
        "id": "wiY0zVDqxxYz"
      },
      "source": [
        "**큐**"
      ]
    },
    {
      "cell_type": "code",
      "metadata": {
        "colab": {
          "base_uri": "https://localhost:8080/"
        },
        "id": "BulfsEGPxy_d",
        "outputId": "e6459258-6f0d-44f0-e89f-bc88b90174e4"
      },
      "source": [
        "from collections import deque\n",
        "\n",
        "queue = deque()\n",
        "\n",
        "queue.append(1)\n",
        "queue.append(2)\n",
        "queue.append(3)\n",
        "print(queue.popleft()) #popleft해야 선입선출\n",
        "queue.append(4)\n",
        "queue.popleft()\n",
        "\n",
        "print(queue)\n",
        "#print(queue[::-1]) -> 불가능\n",
        "queue.reverse()\n",
        "print(queue)"
      ],
      "execution_count": 8,
      "outputs": [
        {
          "output_type": "stream",
          "text": [
            "1\n",
            "deque([3, 4])\n",
            "deque([4, 3])\n"
          ],
          "name": "stdout"
        }
      ]
    },
    {
      "cell_type": "markdown",
      "metadata": {
        "id": "-NdyRNMFy5wZ"
      },
      "source": [
        "**재귀함수**"
      ]
    },
    {
      "cell_type": "code",
      "metadata": {
        "colab": {
          "base_uri": "https://localhost:8080/"
        },
        "id": "SdDEOoWoy7P1",
        "outputId": "18cbd332-5779-42d2-8190-7e818f33252f"
      },
      "source": [
        "def recursive_function(i):\n",
        "  if i == 10:\n",
        "    return\n",
        "  print(i, '번째 재귀함수에서', i+1, '번째 재귀함수를 호출합니다.')\n",
        "  recursive_function(i+1)\n",
        "  print(i, '번째 재귀함수를 종료합니다')\n",
        "\n",
        "recursive_function(1)"
      ],
      "execution_count": 12,
      "outputs": [
        {
          "output_type": "stream",
          "text": [
            "1 번째 재귀함수에서 2 번째 재귀함수를 호출합니다.\n",
            "2 번째 재귀함수에서 3 번째 재귀함수를 호출합니다.\n",
            "3 번째 재귀함수에서 4 번째 재귀함수를 호출합니다.\n",
            "4 번째 재귀함수에서 5 번째 재귀함수를 호출합니다.\n",
            "5 번째 재귀함수에서 6 번째 재귀함수를 호출합니다.\n",
            "6 번째 재귀함수에서 7 번째 재귀함수를 호출합니다.\n",
            "7 번째 재귀함수에서 8 번째 재귀함수를 호출합니다.\n",
            "8 번째 재귀함수에서 9 번째 재귀함수를 호출합니다.\n",
            "9 번째 재귀함수에서 10 번째 재귀함수를 호출합니다.\n",
            "9 번째 재귀함수를 종료합니다\n",
            "8 번째 재귀함수를 종료합니다\n",
            "7 번째 재귀함수를 종료합니다\n",
            "6 번째 재귀함수를 종료합니다\n",
            "5 번째 재귀함수를 종료합니다\n",
            "4 번째 재귀함수를 종료합니다\n",
            "3 번째 재귀함수를 종료합니다\n",
            "2 번째 재귀함수를 종료합니다\n",
            "1 번째 재귀함수를 종료합니다\n"
          ],
          "name": "stdout"
        }
      ]
    },
    {
      "cell_type": "code",
      "metadata": {
        "colab": {
          "base_uri": "https://localhost:8080/"
        },
        "id": "ib_q80XzzrK6",
        "outputId": "6ebecf48-896d-4709-da8b-20140791b944"
      },
      "source": [
        "#팩토리얼-반복(1부터 n까지 차례대로 곱하기)\n",
        "def factorial(n):\n",
        "  num = 1\n",
        "  for i in range(n):\n",
        "    num = num * (i+1)\n",
        "  return num\n",
        "\n",
        "print(factorial(5))"
      ],
      "execution_count": 14,
      "outputs": [
        {
          "output_type": "stream",
          "text": [
            "120\n"
          ],
          "name": "stdout"
        }
      ]
    },
    {
      "cell_type": "code",
      "metadata": {
        "colab": {
          "base_uri": "https://localhost:8080/"
        },
        "id": "AgdZ_e_lzubE",
        "outputId": "250c7774-9a25-4dec-9cea-b2c06a1a5592"
      },
      "source": [
        "#팩토리얼-재귀\n",
        "def factorial(n):\n",
        "  if n == 1:\n",
        "    return 1\n",
        "  return n * factorial(n-1)\n",
        "\n",
        "print(factorial(5))"
      ],
      "execution_count": 16,
      "outputs": [
        {
          "output_type": "stream",
          "text": [
            "120\n"
          ],
          "name": "stdout"
        }
      ]
    },
    {
      "cell_type": "markdown",
      "metadata": {
        "id": "guQ2uAN925SP"
      },
      "source": [
        "**인접행렬vs인접리스트**"
      ]
    },
    {
      "cell_type": "code",
      "metadata": {
        "colab": {
          "base_uri": "https://localhost:8080/"
        },
        "id": "VRQ6w20l1DXA",
        "outputId": "f3f5dee8-6f10-4e90-f843-812c9b839b2c"
      },
      "source": [
        "# 인접행렬\n",
        "INF = 999999999 #무한의 비용 선언\n",
        "\n",
        "# 2차원 리스트를 이용해 인접행렬 표현\n",
        "graph = [\n",
        "    [0,7,5],\n",
        "    [7,0,INF],\n",
        "    [5,INF,0]\n",
        "]\n",
        "\n",
        "print(graph)"
      ],
      "execution_count": 18,
      "outputs": [
        {
          "output_type": "stream",
          "text": [
            "[[0, 7, 5], [7, 0, 999999999], [5, 999999999, 0]]\n"
          ],
          "name": "stdout"
        }
      ]
    },
    {
      "cell_type": "code",
      "metadata": {
        "colab": {
          "base_uri": "https://localhost:8080/"
        },
        "id": "wgpW71P3164Y",
        "outputId": "d62a1e86-9051-4a25-b5c4-b1e4daf2a415"
      },
      "source": [
        "# 인접리스트\n",
        "graph = [[] for _ in range(3)] #3행인 2차원리스트로 인접리스트 표현\n",
        "\n",
        "#노드 0\n",
        "graph[0].append((1,7))\n",
        "graph[0].append((2,5))\n",
        "\n",
        "#노드 1\n",
        "graph[1].append((0,7))\n",
        "\n",
        "#노드 2\n",
        "graph[2].append((0, 5))\n",
        "\n",
        "print(graph)"
      ],
      "execution_count": 20,
      "outputs": [
        {
          "output_type": "stream",
          "text": [
            "[[(1, 7), (2, 5)], [(0, 7)], [(0, 5)]]\n"
          ],
          "name": "stdout"
        }
      ]
    },
    {
      "cell_type": "markdown",
      "metadata": {
        "id": "CAXKm2Xm0-lh"
      },
      "source": [
        "**DFS-깊이우선탐색**"
      ]
    },
    {
      "cell_type": "code",
      "metadata": {
        "colab": {
          "base_uri": "https://localhost:8080/"
        },
        "id": "eCG8DVih29sV",
        "outputId": "19e57bb1-7575-4f92-f4b7-82668d8e4a63"
      },
      "source": [
        "def DFS(graph, v, visited):\n",
        "  #현 노드를 방문처리\n",
        "  visited[v] = True\n",
        "  print(v, end = ' ')\n",
        "  for i in graph[v]:\n",
        "    if not visited[i]:\n",
        "      DFS(graph, i, visited)\n",
        "\n",
        "# 각 노드가 연결된 정보를 리스트 자료형으로 표현\n",
        "graph = [\n",
        "         [],\n",
        "         [2,3,8],\n",
        "         [1,7],\n",
        "         [1,4,5],\n",
        "         [3,5],\n",
        "         [3,4],\n",
        "         [7],\n",
        "         [2,6,8],\n",
        "         [1,7]\n",
        "]\n",
        "\n",
        "visited = [False]*9\n",
        "\n",
        "DFS(graph, 1, visited)"
      ],
      "execution_count": 25,
      "outputs": [
        {
          "output_type": "stream",
          "text": [
            "1 2 7 6 8 3 4 5 "
          ],
          "name": "stdout"
        }
      ]
    },
    {
      "cell_type": "markdown",
      "metadata": {
        "id": "Bsxi_8Q14i50"
      },
      "source": [
        "**BFS-너비우선탐색**"
      ]
    },
    {
      "cell_type": "code",
      "metadata": {
        "colab": {
          "base_uri": "https://localhost:8080/"
        },
        "id": "7SL-kyO-4mKA",
        "outputId": "8eb41901-c70b-4fe9-f16c-46c07cb717b4"
      },
      "source": [
        "from collections import deque\n",
        "\n",
        "def BFS(graph, start, visited):\n",
        "  queue = deque([start])\n",
        "  visited[start] = True\n",
        "  #큐가 빌때까지 반복\n",
        "  while queue:\n",
        "    v = queue.popleft()\n",
        "    print(v, end = ' ')\n",
        "    for i in graph[v]:\n",
        "      if not visited[i]:\n",
        "        queue.append(i)\n",
        "        visited[i] = True\n",
        "\n",
        "# 각 노드가 연결된 정보를 리스트 자료형으로 표현\n",
        "graph = [\n",
        "         [],\n",
        "         [2,3,8],\n",
        "         [1,7],\n",
        "         [1,4,5],\n",
        "         [3,5],\n",
        "         [3,4],\n",
        "         [7],\n",
        "         [2,6,8],\n",
        "         [1,7]\n",
        "]\n",
        "\n",
        "visited = [False]*9\n",
        "\n",
        "BFS(graph, 1, visited)"
      ],
      "execution_count": 31,
      "outputs": [
        {
          "output_type": "stream",
          "text": [
            "1 2 3 8 7 4 5 6 "
          ],
          "name": "stdout"
        }
      ]
    },
    {
      "cell_type": "markdown",
      "metadata": {
        "id": "hmoIdn286fin"
      },
      "source": [
        "**음료수 얼려 먹기**"
      ]
    },
    {
      "cell_type": "code",
      "metadata": {
        "colab": {
          "base_uri": "https://localhost:8080/"
        },
        "id": "2eqInxm15DRT",
        "outputId": "5edae38c-91aa-4c6e-e11a-2feb785651d2"
      },
      "source": [
        "n, m = map(int, input().split())\n",
        "\n",
        "graph = []\n",
        "for i in range(n):\n",
        "  graph.append(map(int, input().split()))\n",
        "\n",
        "# "
      ],
      "execution_count": 33,
      "outputs": [
        {
          "output_type": "stream",
          "text": [
            "4 5\n",
            "4\n",
            "5\n"
          ],
          "name": "stdout"
        }
      ]
    }
  ]
}